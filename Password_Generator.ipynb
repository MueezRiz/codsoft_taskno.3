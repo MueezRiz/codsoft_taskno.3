{
  "nbformat": 4,
  "nbformat_minor": 0,
  "metadata": {
    "colab": {
      "provenance": []
    },
    "kernelspec": {
      "name": "python3",
      "display_name": "Python 3"
    },
    "language_info": {
      "name": "python"
    }
  },
  "cells": [
    {
      "cell_type": "code",
      "execution_count": 4,
      "metadata": {
        "colab": {
          "base_uri": "https://localhost:8080/"
        },
        "id": "2WUaVZdo0v_t",
        "outputId": "c696e1db-a0f8-49ea-b97d-fc149802a102"
      },
      "outputs": [
        {
          "name": "stdout",
          "output_type": "stream",
          "text": [
            "-------------------Password Generator-------------------\n",
            "\n",
            "Enter the length of the password10\n",
            "Your generated password is  B3vXnnCLVZ\n",
            "Do you want to continue? (Y/N or y/n)y\n",
            "OK\n",
            "Enter the length of the password3\n",
            "Your generated password is  VjY\n",
            "Do you want to continue? (Y/N or y/n)y\n",
            "OK\n",
            "Enter the length of the password21\n",
            "Your generated password is  tmumJLmbK3mXgjdiavMtq\n",
            "Do you want to continue? (Y/N or y/n)y\n",
            "OK\n",
            "Enter the length of the password0\n",
            "Your generated password is  \n",
            "Do you want to continue? (Y/N or y/n)n\n"
          ]
        }
      ],
      "source": [
        "import random\n",
        "import string\n",
        "\n",
        "def password_generator(len):\n",
        "  ch=string.ascii_letters + string.digits\n",
        "  password=''.join(random.choice(ch) for _ in range(len))\n",
        "  return password\n",
        "\n",
        "\n",
        "print(\"-------------------Password Generator-------------------\")\n",
        "print()\n",
        "while(1):\n",
        "  length=int(input(\"Enter the length of the password\"))\n",
        "  rand_pass=password_generator(length)\n",
        "  print(\"Your generated password is \",rand_pass)\n",
        "\n",
        "  d=input(\"Do you want to continue? (Y/N or y/n)\")\n",
        "\n",
        "  if(d=='Y'or d=='y'):\n",
        "    print(\"OK\")\n",
        "  elif(d=='N'or d=='n'):\n",
        "    break"
      ]
    }
  ]
}